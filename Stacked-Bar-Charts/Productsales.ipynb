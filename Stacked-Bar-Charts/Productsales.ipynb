{
 "cells": [
  {
   "cell_type": "code",
   "execution_count": 1,
   "metadata": {},
   "outputs": [],
   "source": [
    "import math\n",
    "import pandas as pd\n",
    "from bokeh.layouts import gridplot\n",
    "from bokeh.plotting import figure, show\n",
    "from bokeh.io import output_file\n",
    "\n",
    "# Create sample data\n",
    "data = {'Product': ['A', 'A', 'B', 'B'], 'Quarter': ['Q1', 'Q2', 'Q1', 'Q2'], 'Sales': [1000, 1200, 1500, 1800]}\n",
    "\n",
    "# Create DataFrame\n",
    "df = pd.DataFrame(data)\n",
    "\n",
    "# Group by 'Product' column\n",
    "products = df.groupby('Product')\n",
    "\n",
    "product_names = list(products.groups.keys())\n",
    "num_cols = math.floor(math.sqrt(len(product_names)))\n",
    "grid_figs = []\n",
    "\n",
    "for product_name in product_names:\n",
    "    product_data = products.get_group(product_name)\n",
    "\n",
    "    quarters = product_data['Quarter']\n",
    "    sales = product_data['Sales']\n",
    "\n",
    "    fig = figure(x_range=quarters, title=f'Product {product_name}',\n",
    "    tooltips=[(\"Quarter\", \"@x\"), (\"Sales\", \"@top\")])\n",
    "    fig.vbar(x=quarters, top=sales, width=0.8)\n",
    "    \n",
    "    grid_figs.append(fig)\n",
    "\n",
    "grid = gridplot(grid_figs, ncols=num_cols)\n",
    "\n",
    "output_file(\"grid_plot.html\")\n",
    "show(grid)\n",
    "\n",
    "\n",
    "\n"
   ]
  }
 ],
 "metadata": {
  "kernelspec": {
   "display_name": "Python 3",
   "language": "python",
   "name": "python3"
  },
  "language_info": {
   "codemirror_mode": {
    "name": "ipython",
    "version": 3
   },
   "file_extension": ".py",
   "mimetype": "text/x-python",
   "name": "python",
   "nbconvert_exporter": "python",
   "pygments_lexer": "ipython3",
   "version": "3.10.10"
  },
  "orig_nbformat": 4
 },
 "nbformat": 4,
 "nbformat_minor": 2
}
